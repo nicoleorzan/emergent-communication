{
 "cells": [
  {
   "cell_type": "code",
   "execution_count": 14,
   "metadata": {},
   "outputs": [],
   "source": [
    "import math\n",
    "import os\n",
    "import seaborn as sns\n",
    "\n",
    "from torch.autograd import Variable\n",
    "import numpy as np\n",
    "import matplotlib\n",
    "import matplotlib.pyplot as plt\n",
    "import numpy as np\n",
    "from math import ceil, floor\n",
    "from collections import deque\n",
    "import pandas as pd\n",
    "import matplotlib.pyplot as plt\n",
    "import torch\n",
    "import torch.nn as nn\n",
    "import torch.nn.functional as F\n",
    "import torch.optim as optim\n",
    "from torch.distributions import Categorical\n",
    "from torch.distributions import Normal\n",
    "from scipy.stats import rv_discrete\n"
   ]
  },
  {
   "cell_type": "code",
   "execution_count": 15,
   "metadata": {},
   "outputs": [],
   "source": [
    "def get_jain_index(resources):\n",
    "    \"\"\"Calculates the Jain index of a list of resources.\"\"\"\n",
    "\n",
    "    # Jain fairness index\n",
    "    # index close to 1 means fair distribution of resources\n",
    "    # index close to 1/n means unfait distribution of resources\n",
    "\n",
    "    n = resources.shape[0]\n",
    "    r = resources\n",
    "\n",
    "    if n <= 1:\n",
    "        return 1.0\n",
    "    else:\n",
    "        return ((np.sum(r) ** 2) / (np.sum(r ** 2) * n))\n",
    "    \n",
    "\n",
    "def get_jain_index_max(np, nc):\n",
    "    \"\"\"Calculates the maximum possible value of the Jain index.\"\"\"\n",
    "    x = nc/np\n",
    "    d = x - int(x)\n",
    "    index = (1 + d*(1-d)/(x*x))**-1\n",
    "    return index"
   ]
  },
  {
   "cell_type": "code",
   "execution_count": 16,
   "metadata": {},
   "outputs": [],
   "source": [
    "# Identify which device should be used by torch for the ANN calculations\n",
    "device = torch.device(\"cuda:0\" if torch.cuda.is_available() else \"cpu\")\n",
    "\n",
    "\n",
    "class AgentNet(nn.Module):\n",
    "    def __init__(self, n_players, n_coins):\n",
    "        super(AgentNet, self).__init__()\n",
    "        self.n_players = n_players\n",
    "        self.n_coins = n_coins\n",
    "        self.n_actions = 2 # 0 non do soldi, 1 do soldi\n",
    "        h_size = int(n_coins)\n",
    "        a_size = self.n_actions\n",
    "        self.fc1 = nn.Linear(n_coins+1, h_size)\n",
    "        self.fc2 = nn.Linear(h_size, a_size)\n",
    "        self.epsilon = 0.1\n",
    "        self._gamma = 0.99\n",
    "\n",
    "    def forward(self, x):\n",
    "        out = self.fc1(x)\n",
    "        out = F.relu(out)\n",
    "        out = self.fc2(out)\n",
    "        \n",
    "        return out\n",
    "\n",
    "    def act(self, state):\n",
    "\n",
    "        state = torch.from_numpy(state).unsqueeze(dim=0).to(device)\n",
    "        state = F.one_hot(state, num_classes=self.n_coins+1).float()\n",
    "        \n",
    "        probs_total = self.forward(state).cpu()\n",
    "        probs_total = F.softmax(probs_total, dim=1)\n",
    "        \n",
    "        m = Categorical(probs_total)\n",
    "\n",
    "        if np.random.rand() < self.epsilon:\n",
    "            uniform = Categorical(probs_total)\n",
    "            action = uniform.sample()\n",
    "        else:\n",
    "            action = m.sample()\n",
    "\n",
    "        return action, m.log_prob(action), probs_total"
   ]
  },
  {
   "cell_type": "code",
   "execution_count": 17,
   "metadata": {},
   "outputs": [
    {
     "data": {
      "text/plain": [
       "(tensor([1]),\n",
       " tensor([-0.6574], grad_fn=<SqueezeBackward1>),\n",
       " tensor([[0.4818, 0.5182]], grad_fn=<SoftmaxBackward>))"
      ]
     },
     "execution_count": 17,
     "metadata": {},
     "output_type": "execute_result"
    }
   ],
   "source": [
    "n_players = 3\n",
    "n_coins = 15\n",
    "my_coins = np.array((3))\n",
    "ag = AgentNet(n_players = n_players, n_coins = n_coins)\n",
    "ag.act(my_coins)"
   ]
  },
  {
   "cell_type": "code",
   "execution_count": 18,
   "metadata": {},
   "outputs": [],
   "source": [
    "class Environment:\n",
    "\n",
    "    def __init__(self, n_players, n_total_coins, threshold = 0., multiplier = 1.):\n",
    "        self.n_players = n_players\n",
    "        self.n_total_coins = n_total_coins\n",
    "        self.state = np.zeros((self.n_players,1))\n",
    "        self.threshold = threshold\n",
    "        self.multiplier = multiplier\n",
    "        self.rews_dict = {k: [] for k in range(self.n_players)}\n",
    "\n",
    "    def reset(self):\n",
    "        self.state = np.zeros(self.n_players)\n",
    "        self.rews_dict = {k: [] for k in range(self.n_players)}\n",
    "        \n",
    "    def equal_division(self):\n",
    "        self.coins = [int(self.n_total_coins/self.n_players) for i in range(self.n_players)]\n",
    "        return self.coins\n",
    "    \n",
    "    def update_rews_dict(self, rew, t):\n",
    "        for i in range(self.n_players):\n",
    "            self.rews_dict[i].append(rew[i])\n",
    "            \n",
    "    def sample(self):\n",
    "        left_coins = self.n_total_coins\n",
    "        self.coins = []\n",
    "        \n",
    "        for i in range(self.n_players):\n",
    "            if (i == self.n_players - 1):\n",
    "                self.coins.append(left_coins)\n",
    "            else:\n",
    "                val = int(np.random.choice(left_coins-1, 1))\n",
    "                self.coins.append(val)\n",
    "                left_coins = left_coins - val \n",
    "                \n",
    "        return self.coins\n",
    "\n",
    "    def step(self, coins, actions):\n",
    "        rewards = np.zeros(self.n_players)\n",
    "        \n",
    "        if (np.sum(actions)) < self.threshold:\n",
    "            return rewards\n",
    "        \n",
    "        amount = np.sum([coins[i] for i in range(self.n_players) if actions[i] == 1])\n",
    "            \n",
    "        for i in range(self.n_players):\n",
    "            if (actions[i] == 1.):\n",
    "                rewards[i] = amount/self.n_players*self.multiplier\n",
    "            else:\n",
    "                rewards[i] = amount/self.n_players*self.multiplier + coins[i]\n",
    "                \n",
    "            # trick to avoid log(0) \n",
    "            if rewards[i] <= 0:\n",
    "                rewards[i] = 1e-6\n",
    "\n",
    "        return rewards"
   ]
  },
  {
   "cell_type": "code",
   "execution_count": 19,
   "metadata": {},
   "outputs": [],
   "source": [
    "def reinforce_players(n_players=5, n_coins=10, n_episodes=1, print_every=1, threshold=0., multiplier=1.):\n",
    "    torch.autograd.set_detect_anomaly(True)\n",
    "    \n",
    "    env = Environment(n_players, n_coins, threshold, multiplier)\n",
    "    \n",
    "    agents = {}\n",
    "    opts = {}\n",
    "    for i in range(n_players):\n",
    "        agents[i] = AgentNet(n_players, n_coins)\n",
    "        opts[i] = optim.Adam(agents[i].parameters(), lr=0.01)\n",
    "    \n",
    "    history = {\n",
    "        \"loss\": [],\n",
    "        \"mean_rew\":[],\n",
    "        \"jain_idx\":[]\n",
    "    }\n",
    "    \n",
    "    history_rewards = {\n",
    "        \"rew_0\": [],\n",
    "        \"rew_1\": [],\n",
    "        \"rew_2\": []\n",
    "    }\n",
    "\n",
    "    for e in range(n_episodes):\n",
    "        \n",
    "        env.reset()\n",
    "        coins = env.sample()\n",
    "        #print(\"Coins=\", coins)\n",
    "        actions = []\n",
    "        log_probs = []\n",
    "\n",
    "        for agent_idx, ag in agents.items():\n",
    "\n",
    "            a, log_prob, _ = ag.act(np.array(int(coins[agent_idx])))\n",
    "            actions.append(a.detach().numpy())\n",
    "            log_probs.append(log_prob)\n",
    "             \n",
    "        rewards = env.step(coins, actions)\n",
    "        for idx, r in enumerate(rewards):\n",
    "            history_rewards[\"rew_\"+str(idx)].append(rewards[idx])\n",
    "        \n",
    "        losses = []\n",
    "        for rew, log_prob in zip(rewards, log_probs):\n",
    "            losses.append(-log_prob*rew)\n",
    "            \n",
    "        history[\"loss\"].append(np.mean([l.detach().numpy() for l in losses]))       \n",
    "        history[\"mean_rew\"].append(np.mean(rewards))\n",
    "        history[\"jain_idx\"].append(get_jain_index(rewards))\n",
    "                    \n",
    "        for idx, loss in enumerate(losses):\n",
    "            opts[idx].zero_grad()\n",
    "            loss.backward()\n",
    "            opts[idx].step()\n",
    "            \n",
    "        if (e%500 == 0):\n",
    "            print(\"\\nEpisode=\", e)\n",
    "            temp=[l.detach().numpy() for l in losses]\n",
    "            print(\"losses=\", np.mean(temp))\n",
    "            \n",
    "    return history, agents, history_rewards"
   ]
  },
  {
   "cell_type": "code",
   "execution_count": 20,
   "metadata": {
    "scrolled": true
   },
   "outputs": [
    {
     "name": "stdout",
     "output_type": "stream",
     "text": [
      "\n",
      "Episode= 0\n",
      "losses= 2.4928267\n",
      "\n",
      "Episode= 500\n",
      "losses= 3.3104124\n",
      "\n",
      "Episode= 1000\n",
      "losses= 0.052854385\n",
      "\n",
      "Episode= 1500\n",
      "losses= 0.0029629879\n",
      "\n",
      "Episode= 2000\n",
      "losses= 0.006650626\n",
      "\n",
      "Episode= 2500\n",
      "losses= 0.001972887\n"
     ]
    }
   ],
   "source": [
    "n_episodes = 3000\n",
    "\n",
    "n_players = 3\n",
    "n_coins = 9\n",
    "\n",
    "threshold = 0.\n",
    "multiplier = 2.\n",
    "\n",
    "history, agents, hr = reinforce_players(n_players=n_players, n_coins=n_coins, n_episodes=n_episodes, threshold = threshold, multiplier=multiplier)"
   ]
  },
  {
   "cell_type": "code",
   "execution_count": 17,
   "metadata": {},
   "outputs": [
    {
     "data": {
      "image/png": "[encoded data removed]",
      "text/plain": [
       "<Figure size 432x288 with 1 Axes>"
      ]
     },
     "metadata": {
      "needs_background": "light"
     },
     "output_type": "display_data"
    }
   ],
   "source": [
    "plt.plot(np.linspace(0, n_episodes, n_episodes), history[\"loss\"], label='loss')\n",
    "plt.legend()\n",
    "plt.grid()\n",
    "plt.show()"
   ]
  },
  {
   "cell_type": "code",
   "execution_count": 18,
   "metadata": {},
   "outputs": [
    {
     "data": {
      "image/png": "[encoded data removed]",
      "text/plain": [
       "<Figure size 432x288 with 1 Axes>"
      ]
     },
     "metadata": {
      "needs_background": "light"
     },
     "output_type": "display_data"
    }
   ],
   "source": [
    "plt.plot(np.linspace(0, n_episodes, n_episodes), hr[\"rew_0\"], label='rew_0')\n",
    "plt.plot(np.linspace(0, n_episodes, n_episodes), hr[\"rew_1\"], label='rew_1')\n",
    "plt.legend()\n",
    "plt.grid()\n",
    "plt.show()"
   ]
  },
  {
   "cell_type": "code",
   "execution_count": 19,
   "metadata": {
    "scrolled": true
   },
   "outputs": [
    {
     "data": {
      "image/png": "[encoded data removed]",
      "text/plain": [
       "<Figure size 432x288 with 1 Axes>"
      ]
     },
     "metadata": {
      "needs_background": "light"
     },
     "output_type": "display_data"
    }
   ],
   "source": [
    "plt.plot(np.linspace(0, n_episodes, n_episodes), history[\"jain_idx\"], label='jain_idx')\n",
    "plt.legend()\n",
    "plt.grid()\n",
    "plt.show()"
   ]
  },
  {
   "cell_type": "code",
   "execution_count": 20,
   "metadata": {
    "scrolled": true
   },
   "outputs": [
    {
     "data": {
      "image/png": "[encoded data removed]",
      "text/plain": [
       "<Figure size 432x288 with 2 Axes>"
      ]
     },
     "metadata": {
      "needs_background": "light"
     },
     "output_type": "display_data"
    }
   ],
   "source": [
    "probbs = np.zeros((n_coins, 2))\n",
    "\n",
    "for c in range(n_coins):\n",
    "    a, log_prob, probs = agents[0].act(np.array(c))\n",
    "    probbs[c] = probs.detach().numpy()\n",
    "    \n",
    "ax = sns.heatmap(probbs, annot=True, linewidth=.5)"
   ]
  },
  {
   "cell_type": "markdown",
   "metadata": {},
   "source": [
    "Idea: aggiungi due tipi di reward: uno alto, che si guadagnano subito, ed uno che infierisce a lungo, ma costantemente, e se continuano col behavior \"male\", li porta ad avere piu perdite che gudagni alla fine (es. guidatori: veocita di spostamento ma aria inwuinata nel lungo termine)\n",
    "        "
   ]
  },
  {
   "cell_type": "markdown",
   "metadata": {},
   "source": [
    "\n",
    "# Add Communication"
   ]
  },
  {
   "cell_type": "code",
   "execution_count": 220,
   "metadata": {},
   "outputs": [],
   "source": [
    "device = torch.device(\"cuda:0\" if torch.cuda.is_available() else \"cpu\")\n",
    "\n",
    "\n",
    "class AgentNet1(nn.Module):\n",
    "    def __init__(self, n_players, n_coins):\n",
    "        super(AgentNet1, self).__init__()\n",
    "        \n",
    "        self.n_players = n_players\n",
    "        self.n_coins = n_coins\n",
    "        self.n_actions = 2 # 0 non do soldi, 1 do soldi\n",
    "        \n",
    "        h_size = int(n_coins)\n",
    "        a_size = self.n_actions\n",
    "        \n",
    "        self.epsilon = 0.1\n",
    "        \n",
    "        self.layer_dim = 1\n",
    "        self.hidden_dim = n_players # boh\n",
    "        self.rnn = nn.RNN(input_size=n_coins+1, hidden_size = self.hidden_dim, num_layers=self.layer_dim)\n",
    "        self.fc_out = nn.Linear(self.hidden_dim, self.n_actions)\n",
    "\n",
    "    def forward(self, x):\n",
    "        print(\"state=\", x, x.shape)\n",
    "        \n",
    "        h0 = Variable(torch.zeros(self.layer_dim, x.size(1), self.hidden_dim))\n",
    "        print(\"h0=\", h0, h0.shape)\n",
    "        \n",
    "        out, hn = self.rnn(x, h0)\n",
    "        out = self.fc_out(out[:, -1, :]) \n",
    "        print(\"out1=\", out)\n",
    "\n",
    "        return hn, out\n",
    "\n",
    "    def act(self, state):\n",
    "\n",
    "        state = torch.from_numpy(state).to(device).long()\n",
    "        print(\"state=\", state)\n",
    "        state = F.one_hot(state, num_classes=self.n_coins+1).float()\n",
    "        state = state\n",
    "        probs_total = self.forward(state).cpu()\n",
    "        probs_total = F.softmax(probs_total, dim=1)\n",
    "        \n",
    "        m = Categorical(probs_total)\n",
    "\n",
    "        if np.random.rand() < self.epsilon:\n",
    "            uniform = Categorical(probs_total)\n",
    "            action = uniform.sample()\n",
    "        else:\n",
    "            action = m.sample()\n",
    "\n",
    "        return action, m.log_prob(action), probs_total"
   ]
  },
  {
   "cell_type": "code",
   "execution_count": 222,
   "metadata": {},
   "outputs": [],
   "source": [
    "def reinforce_players2(n_players=5, n_coins=10, n_episodes=1, print_every=1, threshold=0., multiplier=1.):\n",
    "    torch.autograd.set_detect_anomaly(True)\n",
    "    \n",
    "    env = Environment(n_players, n_coins, threshold, multiplier)\n",
    "    \n",
    "    agents = {}\n",
    "    opts = {}\n",
    "    for i in range(n_players):\n",
    "        agents[i] = AgentNet1(n_players, n_coins)\n",
    "        opts[i] = optim.Adam(agents[i].parameters(), lr=0.01)\n",
    "    \n",
    "    history = {\n",
    "        \"loss\": [],\n",
    "        \"mean_rew\":[],\n",
    "        \"jain_idx\":[]\n",
    "    }\n",
    "    \n",
    "    history_rewards = {\n",
    "        \"rew_0\": [],\n",
    "        \"rew_1\": [],\n",
    "        \"rew_2\": []\n",
    "    }\n",
    "\n",
    "    for e in range(n_episodes):\n",
    "        \n",
    "        env.reset()\n",
    "        coins = env.sample()\n",
    "        #print(\"Coins=\", coins)\n",
    "        actions = []\n",
    "        communication_actions = []\n",
    "        actions = []\n",
    "        log_probs_comm = []\n",
    "        log_probs = []\n",
    "        arrr = np.zeros((1,1))\n",
    "        comms = np.zeros((n_players,1,1))\n",
    "\n",
    "        for agent_idx, ag in agents.items():\n",
    "\n",
    "            arrr[0] = np.array((int(coins[agent_idx])))\n",
    "            print(\"coin=\", np.array((int(coins[agent_idx]))))\n",
    "            print(\"shape coin=\", arrr.shape)\n",
    "            comm_act, log_prob_comm, _ = ag.act(arrr)\n",
    "            communication_actions.append(comm_act.detach().numpy())\n",
    "            log_probs_comm.append(log_prob_comm)\n",
    "            comms[agent_idx] = comm_act\n",
    "            \n",
    "        print(\"\\n\\n\\ncommunication actions=\", communication_actions)\n",
    "        \n",
    "        for agent_idx, ag in agents.items():\n",
    "            for idx, comm in enumerate(comms):\n",
    "                print(\"\\nIdx=\", idx)\n",
    "                print(\"comm=\", comm)\n",
    "                print(\"shape comm=\", comm.shape)\n",
    "                act, log_prob, _ = ag.act(comm)\n",
    "                actions.append(act.detach().numpy())\n",
    "                log_probs.append(log_prob)\n",
    "        \n",
    "        print(\"actions=\", actions)\n",
    "        rewards = env.step(coins, actions)\n",
    "        for idx, r in enumerate(rewards):\n",
    "            history_rewards[\"rew_\"+str(idx)].append(rewards[idx])\n",
    "            \n",
    "        #print(\"rewards=\", rewards)\n",
    "        #print(\"log probs=\", log_probs)\n",
    "        \n",
    "        losses = []\n",
    "        for rew, log_prob in zip(rewards, log_probs):\n",
    "            losses.append(-log_prob*rew)\n",
    "            \n",
    "        history[\"loss\"].append(np.mean([l.detach().numpy() for l in losses]))       \n",
    "        history[\"mean_rew\"].append(np.mean(rewards))\n",
    "        history[\"jain_idx\"].append(get_jain_index(rewards))\n",
    "                    \n",
    "        for idx, loss in enumerate(losses):\n",
    "            #if (idx == 0):\n",
    "            #print(\"loss=\", loss)\n",
    "            opts[idx].zero_grad()\n",
    "            loss.backward()\n",
    "            opts[idx].step()\n",
    "            \n",
    "        if (e%100 == 0):\n",
    "            print(\"\\nEpisode=\", e)\n",
    "            temp=[l.detach().numpy() for l in losses]\n",
    "            print(\"losses=\", np.mean(temp))\n",
    "            \n",
    "    return history, agents, history_rewards"
   ]
  },
  {
   "cell_type": "code",
   "execution_count": 223,
   "metadata": {},
   "outputs": [
    {
     "name": "stdout",
     "output_type": "stream",
     "text": [
      "coin= 10\n",
      "shape coin= (1, 1)\n",
      "state= tensor([[10]])\n",
      "state= tensor([[[0., 0., 0., 0., 0., 0., 0., 0., 0., 0., 1.]]]) torch.Size([1, 1, 11])\n",
      "h0= tensor([[[0.]]]) torch.Size([1, 1, 1])\n",
      "out1= tensor([[ 0.0202, -0.0819]], grad_fn=<AddmmBackward>)\n"
     ]
    },
    {
     "ename": "AttributeError",
     "evalue": "'tuple' object has no attribute 'cpu'",
     "output_type": "error",
     "traceback": [
      "\u001b[0;31m---------------------------------------------------------------------------\u001b[0m",
      "\u001b[0;31mAttributeError\u001b[0m                            Traceback (most recent call last)",
      "\u001b[0;32m<ipython-input-223-1c4dac5da5c8>\u001b[0m in \u001b[0;36m<module>\u001b[0;34m\u001b[0m\n\u001b[1;32m      7\u001b[0m \u001b[0mmultiplier\u001b[0m \u001b[0;34m=\u001b[0m \u001b[0mfloat\u001b[0m\u001b[0;34m(\u001b[0m\u001b[0mn_players\u001b[0m\u001b[0;34m)\u001b[0m\u001b[0;34m/\u001b[0m\u001b[0;36m2.\u001b[0m\u001b[0;34m+\u001b[0m\u001b[0;36m3.\u001b[0m\u001b[0;34m\u001b[0m\u001b[0;34m\u001b[0m\u001b[0m\n\u001b[1;32m      8\u001b[0m \u001b[0;34m\u001b[0m\u001b[0m\n\u001b[0;32m----> 9\u001b[0;31m \u001b[0mhistory\u001b[0m\u001b[0;34m,\u001b[0m \u001b[0magents\u001b[0m\u001b[0;34m,\u001b[0m \u001b[0mhr\u001b[0m \u001b[0;34m=\u001b[0m \u001b[0mreinforce_players2\u001b[0m\u001b[0;34m(\u001b[0m\u001b[0mn_players\u001b[0m\u001b[0;34m=\u001b[0m\u001b[0mn_players\u001b[0m\u001b[0;34m,\u001b[0m \u001b[0mn_coins\u001b[0m\u001b[0;34m=\u001b[0m\u001b[0mn_coins\u001b[0m\u001b[0;34m,\u001b[0m \u001b[0mn_episodes\u001b[0m\u001b[0;34m=\u001b[0m\u001b[0mn_episodes\u001b[0m\u001b[0;34m,\u001b[0m \u001b[0mthreshold\u001b[0m \u001b[0;34m=\u001b[0m \u001b[0mthreshold\u001b[0m\u001b[0;34m,\u001b[0m \u001b[0mmultiplier\u001b[0m\u001b[0;34m=\u001b[0m\u001b[0mmultiplier\u001b[0m\u001b[0;34m)\u001b[0m\u001b[0;34m\u001b[0m\u001b[0;34m\u001b[0m\u001b[0m\n\u001b[0m",
      "\u001b[0;32m<ipython-input-222-de0ed088f3ed>\u001b[0m in \u001b[0;36mreinforce_players2\u001b[0;34m(n_players, n_coins, n_episodes, print_every, threshold, multiplier)\u001b[0m\n\u001b[1;32m     40\u001b[0m             \u001b[0mprint\u001b[0m\u001b[0;34m(\u001b[0m\u001b[0;34m\"coin=\"\u001b[0m\u001b[0;34m,\u001b[0m \u001b[0mnp\u001b[0m\u001b[0;34m.\u001b[0m\u001b[0marray\u001b[0m\u001b[0;34m(\u001b[0m\u001b[0;34m(\u001b[0m\u001b[0mint\u001b[0m\u001b[0;34m(\u001b[0m\u001b[0mcoins\u001b[0m\u001b[0;34m[\u001b[0m\u001b[0magent_idx\u001b[0m\u001b[0;34m]\u001b[0m\u001b[0;34m)\u001b[0m\u001b[0;34m)\u001b[0m\u001b[0;34m)\u001b[0m\u001b[0;34m)\u001b[0m\u001b[0;34m\u001b[0m\u001b[0;34m\u001b[0m\u001b[0m\n\u001b[1;32m     41\u001b[0m             \u001b[0mprint\u001b[0m\u001b[0;34m(\u001b[0m\u001b[0;34m\"shape coin=\"\u001b[0m\u001b[0;34m,\u001b[0m \u001b[0marrr\u001b[0m\u001b[0;34m.\u001b[0m\u001b[0mshape\u001b[0m\u001b[0;34m)\u001b[0m\u001b[0;34m\u001b[0m\u001b[0;34m\u001b[0m\u001b[0m\n\u001b[0;32m---> 42\u001b[0;31m             \u001b[0mcomm_act\u001b[0m\u001b[0;34m,\u001b[0m \u001b[0mlog_prob_comm\u001b[0m\u001b[0;34m,\u001b[0m \u001b[0m_\u001b[0m \u001b[0;34m=\u001b[0m \u001b[0mag\u001b[0m\u001b[0;34m.\u001b[0m\u001b[0mact\u001b[0m\u001b[0;34m(\u001b[0m\u001b[0marrr\u001b[0m\u001b[0;34m)\u001b[0m\u001b[0;34m\u001b[0m\u001b[0;34m\u001b[0m\u001b[0m\n\u001b[0m\u001b[1;32m     43\u001b[0m             \u001b[0mcommunication_actions\u001b[0m\u001b[0;34m.\u001b[0m\u001b[0mappend\u001b[0m\u001b[0;34m(\u001b[0m\u001b[0mcomm_act\u001b[0m\u001b[0;34m.\u001b[0m\u001b[0mdetach\u001b[0m\u001b[0;34m(\u001b[0m\u001b[0;34m)\u001b[0m\u001b[0;34m.\u001b[0m\u001b[0mnumpy\u001b[0m\u001b[0;34m(\u001b[0m\u001b[0;34m)\u001b[0m\u001b[0;34m)\u001b[0m\u001b[0;34m\u001b[0m\u001b[0;34m\u001b[0m\u001b[0m\n\u001b[1;32m     44\u001b[0m             \u001b[0mlog_probs_comm\u001b[0m\u001b[0;34m.\u001b[0m\u001b[0mappend\u001b[0m\u001b[0;34m(\u001b[0m\u001b[0mlog_prob_comm\u001b[0m\u001b[0;34m)\u001b[0m\u001b[0;34m\u001b[0m\u001b[0;34m\u001b[0m\u001b[0m\n",
      "\u001b[0;32m<ipython-input-220-3f09116a1c53>\u001b[0m in \u001b[0;36mact\u001b[0;34m(self, state)\u001b[0m\n\u001b[1;32m     38\u001b[0m         \u001b[0mstate\u001b[0m \u001b[0;34m=\u001b[0m \u001b[0mF\u001b[0m\u001b[0;34m.\u001b[0m\u001b[0mone_hot\u001b[0m\u001b[0;34m(\u001b[0m\u001b[0mstate\u001b[0m\u001b[0;34m,\u001b[0m \u001b[0mnum_classes\u001b[0m\u001b[0;34m=\u001b[0m\u001b[0mself\u001b[0m\u001b[0;34m.\u001b[0m\u001b[0mn_coins\u001b[0m\u001b[0;34m+\u001b[0m\u001b[0;36m1\u001b[0m\u001b[0;34m)\u001b[0m\u001b[0;34m.\u001b[0m\u001b[0mfloat\u001b[0m\u001b[0;34m(\u001b[0m\u001b[0;34m)\u001b[0m\u001b[0;34m\u001b[0m\u001b[0;34m\u001b[0m\u001b[0m\n\u001b[1;32m     39\u001b[0m         \u001b[0mstate\u001b[0m \u001b[0;34m=\u001b[0m \u001b[0mstate\u001b[0m\u001b[0;34m\u001b[0m\u001b[0;34m\u001b[0m\u001b[0m\n\u001b[0;32m---> 40\u001b[0;31m         \u001b[0mprobs_total\u001b[0m \u001b[0;34m=\u001b[0m \u001b[0mself\u001b[0m\u001b[0;34m.\u001b[0m\u001b[0mforward\u001b[0m\u001b[0;34m(\u001b[0m\u001b[0mstate\u001b[0m\u001b[0;34m)\u001b[0m\u001b[0;34m.\u001b[0m\u001b[0mcpu\u001b[0m\u001b[0;34m(\u001b[0m\u001b[0;34m)\u001b[0m\u001b[0;34m\u001b[0m\u001b[0;34m\u001b[0m\u001b[0m\n\u001b[0m\u001b[1;32m     41\u001b[0m         \u001b[0mprobs_total\u001b[0m \u001b[0;34m=\u001b[0m \u001b[0mF\u001b[0m\u001b[0;34m.\u001b[0m\u001b[0msoftmax\u001b[0m\u001b[0;34m(\u001b[0m\u001b[0mprobs_total\u001b[0m\u001b[0;34m,\u001b[0m \u001b[0mdim\u001b[0m\u001b[0;34m=\u001b[0m\u001b[0;36m1\u001b[0m\u001b[0;34m)\u001b[0m\u001b[0;34m\u001b[0m\u001b[0;34m\u001b[0m\u001b[0m\n\u001b[1;32m     42\u001b[0m \u001b[0;34m\u001b[0m\u001b[0m\n",
      "\u001b[0;31mAttributeError\u001b[0m: 'tuple' object has no attribute 'cpu'"
     ]
    }
   ],
   "source": [
    "n_episodes = 1\n",
    "\n",
    "n_players = 1\n",
    "n_coins = 10\n",
    "\n",
    "threshold = 0.\n",
    "multiplier = float(n_players)/2.+3.\n",
    "\n",
    "history, agents, hr = reinforce_players2(n_players=n_players, n_coins=n_coins, n_episodes=n_episodes, threshold = threshold, multiplier=multiplier)"
   ]
  },
  {
   "cell_type": "code",
   "execution_count": 908,
   "metadata": {},
   "outputs": [
    {
     "name": "stdout",
     "output_type": "stream",
     "text": [
      "(2,)\n"
     ]
    }
   ],
   "source": [
    "ag.act(np.array((0,1)))\n",
    "print(np.array((0,1)).shape)"
   ]
  }
 ],
 "metadata": {
  "kernelspec": {
   "display_name": "Python 3",
   "language": "python",
   "name": "python3"
  },
  "language_info": {
   "codemirror_mode": {
    "name": "ipython",
    "version": 3
   },
   "file_extension": ".py",
   "mimetype": "text/x-python",
   "name": "python",
   "nbconvert_exporter": "python",
   "pygments_lexer": "ipython3",
   "version": "3.8.10"
  }
 },
 "nbformat": 4,
 "nbformat_minor": 4
}
