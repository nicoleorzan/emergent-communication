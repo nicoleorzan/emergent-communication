{
 "cells": [
  {
   "cell_type": "code",
   "execution_count": 651,
   "metadata": {},
   "outputs": [],
   "source": [
    "import math\n",
    "import os\n",
    "import seaborn as sns\n",
    "\n",
    "import numpy as np\n",
    "import matplotlib\n",
    "import matplotlib.pyplot as plt\n",
    "import numpy as np\n",
    "from math import ceil, floor\n",
    "from collections import deque\n",
    "import matplotlib.pyplot as plt\n",
    "import torch\n",
    "import torch.nn as nn\n",
    "import torch.nn.functional as F\n",
    "import torch.optim as optim\n",
    "from torch.distributions import Categorical\n",
    "from torch.distributions import Normal\n",
    "from scipy.stats import rv_discrete\n"
   ]
  },
  {
   "cell_type": "code",
   "execution_count": 559,
   "metadata": {},
   "outputs": [],
   "source": [
    "def get_jain_index(resources):\n",
    "    \"\"\"Calculates the Jain index of a list of resources.\"\"\"\n",
    "\n",
    "    # Jain fairness index\n",
    "    # index close to 1 means fair distribution of resources\n",
    "    # index close to 1/n means unfait distribution of resources\n",
    "\n",
    "    n = resources.shape[0]\n",
    "    r = resources\n",
    "\n",
    "    if n <= 1:\n",
    "        return 1.0\n",
    "    else:\n",
    "        return ((np.sum(r) ** 2) / (np.sum(r ** 2) * n))\n",
    "    \n",
    "\n",
    "def get_jain_index_max(np, nc):\n",
    "    \"\"\"Calculates the maximum possible value of the Jain index.\"\"\"\n",
    "    x = nc/np\n",
    "    d = x - int(x)\n",
    "    index = (1 + d*(1-d)/(x*x))**-1\n",
    "    return index"
   ]
  },
  {
   "cell_type": "code",
   "execution_count": 591,
   "metadata": {},
   "outputs": [],
   "source": [
    "# Identify which device should be used by torch for the ANN calculations\n",
    "device = torch.device(\"cuda:0\" if torch.cuda.is_available() else \"cpu\")\n",
    "\n",
    "\n",
    "class AgentNet(nn.Module):\n",
    "    def __init__(self, n_players, n_coins):\n",
    "        super(AgentNet, self).__init__()\n",
    "        self.n_players = n_players\n",
    "        self.n_coins = n_coins\n",
    "        self.n_actions = 2 # 0 non do soldi, 1 do soldi\n",
    "        h_size = int(n_coins)\n",
    "        a_size = self.n_actions\n",
    "        self.fc1 = nn.Linear(n_coins+1, h_size)\n",
    "        self.fc2 = nn.Linear(h_size, a_size)\n",
    "        self.epsilon = 0.1\n",
    "\n",
    "    def forward(self, x): #entrata: n coins che ho\n",
    "        out = self.fc1(x)\n",
    "        out = F.relu(out)\n",
    "        out = self.fc2(out)\n",
    "\n",
    "        n = out.size()\n",
    "        mask = torch.zeros(n).to(device)\n",
    "\n",
    "        return out\n",
    "\n",
    "    def act(self, state): # state = my_coins\n",
    "\n",
    "        state = torch.from_numpy(state).unsqueeze(dim=0).to(device)#.float().unsqueeze(0).to(device)\n",
    "        #print(\"state=\", state)\n",
    "        state = F.one_hot(state, num_classes=self.n_coins+1).float()#.long() #to(torch.long)#.type(torch.LongTensor)\n",
    "        #print(\"state=\", state)\n",
    "        #print(\"type=\", state.dtype)\n",
    "\n",
    "        probs_total = self.forward(state).cpu()\n",
    "        #print(\"probs_total=\", probs_total)\n",
    "\n",
    "        #probs_total = probs_total.view([-1, self.n_players])\n",
    "        #print(\"probs_total=\", probs_total)\n",
    "        probs_total = F.softmax(probs_total, dim=1)\n",
    "        #print(\"probs_total=\", probs_total)\n",
    "        \n",
    "        m = Categorical(probs_total)\n",
    "\n",
    "        if np.random.rand() < self.epsilon:\n",
    "            #proba = get_probs(self.n_players, self.n_coins, decider_rank)\n",
    "            uniform = Categorical(probs_total)\n",
    "            action = uniform.sample()\n",
    "        else:\n",
    "            action = m.sample()\n",
    "\n",
    "        return action, m.log_prob(action), probs_total"
   ]
  },
  {
   "cell_type": "code",
   "execution_count": 498,
   "metadata": {},
   "outputs": [
    {
     "name": "stdout",
     "output_type": "stream",
     "text": [
      "state= tensor([3])\n"
     ]
    },
    {
     "data": {
      "text/plain": [
       "(tensor([0]), tensor([-0.6432], grad_fn=<SqueezeBackward1>))"
      ]
     },
     "execution_count": 498,
     "metadata": {},
     "output_type": "execute_result"
    }
   ],
   "source": [
    "n_players = 3\n",
    "n_coins = 15\n",
    "my_coins = np.array((3))\n",
    "ag = AgentNet(n_players = n_players, n_coins = n_coins)\n",
    "ag.act(my_coins)"
   ]
  },
  {
   "cell_type": "code",
   "execution_count": 662,
   "metadata": {},
   "outputs": [],
   "source": [
    "class Environment:\n",
    "\n",
    "    def __init__(self, n_players, n_total_coins, threshold = 0., multiplier = 1.):\n",
    "        self.n_players = n_players\n",
    "        self.coins = n_total_coins\n",
    "        self.state = np.zeros((self.n_players,1))\n",
    "        self.threshold = threshold\n",
    "        self.multiplier = multiplier\n",
    "\n",
    "    def reset(self):\n",
    "        self.state = np.zeros(self.n_players)\n",
    "            \n",
    "    def sample(self):\n",
    "        coins = self.coins\n",
    "        #print(\"total coins=\", coins)\n",
    "        \n",
    "        for i in range(self.n_players):\n",
    "            if (i == self.n_players - 1):\n",
    "                self.state[i] = coins\n",
    "                #print(\"self.state[\",i,\"]=\", self.state[i])\n",
    "            else:\n",
    "                self.state[i] = int(np.random.choice(coins-1, 1))\n",
    "                #print(\"self.state[\",i,\"]=\", self.state[i])\n",
    "                coins = coins - int(self.state[i])\n",
    "                #print(\"new coins=\", coins)\n",
    "                \n",
    "                \n",
    "        return self.state\n",
    "\n",
    "    def step(self, coins, actions):\n",
    "        rewards = np.zeros(self.n_players)\n",
    "        \n",
    "        if (np.sum(actions)) < self.threshold:\n",
    "            return rewards\n",
    "        \n",
    "        amount = np.sum([coins[i] for i in range(self.n_players) if actions[i] == 1])\n",
    "            \n",
    "        for i in range(self.n_players):\n",
    "            if (actions[i] == 1.):\n",
    "                rewards[i] = amount/self.n_players*self.multiplier\n",
    "            else:\n",
    "                rewards[i] = amount/self.n_players*self.multiplier + coins[i]\n",
    "                \n",
    "            # trick to avoid log(0) \n",
    "            if rewards[i] <= 0:\n",
    "                rewards[i] = 1e-6\n",
    "\n",
    "        return rewards"
   ]
  },
  {
   "cell_type": "code",
   "execution_count": 663,
   "metadata": {},
   "outputs": [],
   "source": [
    "def reinforce_players(n_players=5, n_coins=10, n_episodes=1, print_every=1, threshold=0., multiplier=1.):\n",
    "    torch.autograd.set_detect_anomaly(True)\n",
    "    \n",
    "    env = Environment(n_players, n_coins, threshold, multiplier)\n",
    "    \n",
    "    agents = {}\n",
    "    opts = {}\n",
    "    for i in range(n_players):\n",
    "        agents[i] = AgentNet(n_players, n_coins)\n",
    "        opts[i] = optim.Adam(agents[i].parameters(), lr=0.01)\n",
    "    \n",
    "    history = {\n",
    "        \"loss\": [],\n",
    "        \"mean_rew\":[],\n",
    "        \"jain_idx\":[]\n",
    "    }\n",
    "    \n",
    "    history_rewards = {\n",
    "        \"rew_0\": [],\n",
    "        \"rew_1\": [],\n",
    "        \"rew_2\": []\n",
    "    }\n",
    "\n",
    "    for e in range(n_episodes):\n",
    "\n",
    "        agents_log_probs = [[] for _ in range(n_players)]\n",
    "        agents_rewards = [[] for _ in range(n_players)]\n",
    "        \n",
    "        env.reset()\n",
    "        coins = env.sample()\n",
    "        #print(\"Coins=\", coins)\n",
    "        actions = []\n",
    "        log_probs = []\n",
    "\n",
    "        for agent_idx, ag in agents.items():\n",
    "\n",
    "            a, log_prob, _ = ag.act(np.array(int(coins[agent_idx])))\n",
    "            actions.append(a.detach().numpy())\n",
    "            log_probs.append(log_prob)\n",
    "             \n",
    "        rewards = env.step(coins, actions)\n",
    "        for idx, r in enumerate(rewards):\n",
    "            history_rewards[\"rew_\"+str(idx)].append(rewards[idx])\n",
    "        #print(\"rewards=\", rewards)\n",
    "        #print(\"log probs=\", log_probs)\n",
    "        \n",
    "        losses = []\n",
    "        for rew, log_prob in zip(rewards, log_probs):\n",
    "            losses.append(-log_prob*rew)\n",
    "            \n",
    "        history[\"loss\"].append(np.mean([l.detach().numpy() for l in losses]))       \n",
    "        history[\"mean_rew\"].append(np.mean(rewards))\n",
    "        history[\"jain_idx\"].append(get_jain_index(rewards))\n",
    "                    \n",
    "        for idx, loss in enumerate(losses):\n",
    "            #if (idx == 0):\n",
    "            #print(\"loss=\", loss)\n",
    "            opts[idx].zero_grad()\n",
    "            loss.backward()\n",
    "            opts[idx].step()\n",
    "            \n",
    "        if (e%100 == 0):\n",
    "            print(\"\\nEpisode=\", e)\n",
    "            temp=[l.detach().numpy() for l in losses]\n",
    "            print(\"losses=\", np.mean(temp))\n",
    "            \n",
    "    return history, agents, history_rewards"
   ]
  },
  {
   "cell_type": "code",
   "execution_count": 696,
   "metadata": {
    "scrolled": true
   },
   "outputs": [
    {
     "name": "stdout",
     "output_type": "stream",
     "text": [
      "\n",
      "Episode= 0\n",
      "losses= 2.1119697\n",
      "\n",
      "Episode= 100\n",
      "losses= 10.379967\n",
      "\n",
      "Episode= 200\n",
      "losses= 6.35\n",
      "\n",
      "Episode= 300\n",
      "losses= 3.76069\n",
      "\n",
      "Episode= 400\n",
      "losses= 5.20121\n",
      "\n",
      "Episode= 500\n",
      "losses= 2.594937\n",
      "\n",
      "Episode= 600\n",
      "losses= 1.2205714\n",
      "\n",
      "Episode= 700\n",
      "losses= 4.804342\n",
      "\n",
      "Episode= 800\n",
      "losses= 2.3778267\n",
      "\n",
      "Episode= 900\n",
      "losses= 7.1167545\n",
      "\n",
      "Episode= 1000\n",
      "losses= 1.7917887\n",
      "\n",
      "Episode= 1100\n",
      "losses= 0.42139795\n",
      "\n",
      "Episode= 1200\n",
      "losses= 0.036362622\n",
      "\n",
      "Episode= 1300\n",
      "losses= 0.7259832\n",
      "\n",
      "Episode= 1400\n",
      "losses= 0.01955346\n",
      "\n",
      "Episode= 1500\n",
      "losses= 0.020891929\n",
      "\n",
      "Episode= 1600\n",
      "losses= 0.0029782497\n",
      "\n",
      "Episode= 1700\n",
      "losses= 0.002804391\n",
      "\n",
      "Episode= 1800\n",
      "losses= 0.0021174566\n",
      "\n",
      "Episode= 1900\n",
      "losses= 0.0057628737\n",
      "\n",
      "Episode= 2000\n",
      "losses= 0.009652588\n",
      "\n",
      "Episode= 2100\n",
      "losses= 0.002358008\n",
      "\n",
      "Episode= 2200\n",
      "losses= 0.0068553686\n",
      "\n",
      "Episode= 2300\n",
      "losses= 0.0029439067\n",
      "\n",
      "Episode= 2400\n",
      "losses= 0.00070278003\n",
      "\n",
      "Episode= 2500\n",
      "losses= 0.0021038237\n",
      "\n",
      "Episode= 2600\n",
      "losses= 0.00083899574\n",
      "\n",
      "Episode= 2700\n",
      "losses= 0.00051291526\n",
      "\n",
      "Episode= 2800\n",
      "losses= 0.0065137446\n",
      "\n",
      "Episode= 2900\n",
      "losses= 0.00097428524\n"
     ]
    }
   ],
   "source": [
    "n_episodes = 3000\n",
    "\n",
    "n_players = 3\n",
    "n_coins = 10\n",
    "\n",
    "threshold = 0.\n",
    "multiplier = float(n_players)/2.+3.\n",
    "\n",
    "history, agents, hr = reinforce_players(n_players=n_players, n_coins=n_coins, n_episodes=n_episodes, threshold = threshold, multiplier=multiplier)"
   ]
  },
  {
   "cell_type": "code",
   "execution_count": 697,
   "metadata": {},
   "outputs": [
    {
     "data": {
      "image/png": "[encoded data removed]",
      "text/plain": [
       "<Figure size 432x288 with 1 Axes>"
      ]
     },
     "metadata": {
      "needs_background": "light"
     },
     "output_type": "display_data"
    }
   ],
   "source": [
    "plt.plot(np.linspace(0, n_episodes, n_episodes), history[\"loss\"], label='loss')\n",
    "plt.legend()\n",
    "plt.grid()\n",
    "plt.show()"
   ]
  },
  {
   "cell_type": "code",
   "execution_count": 692,
   "metadata": {},
   "outputs": [
    {
     "data": {
      "image/png": "[encoded data removed]",
      "text/plain": [
       "<Figure size 432x288 with 1 Axes>"
      ]
     },
     "metadata": {
      "needs_background": "light"
     },
     "output_type": "display_data"
    }
   ],
   "source": [
    "plt.plot(np.linspace(0, n_episodes, n_episodes), hr[\"rew_0\"], label='rew_0')\n",
    "#plt.plot(np.linspace(0, n_episodes, n_episodes), hr[\"rew_1\"], label='rew_1')\n",
    "plt.legend()\n",
    "plt.grid()\n",
    "plt.show()"
   ]
  },
  {
   "cell_type": "code",
   "execution_count": 693,
   "metadata": {
    "scrolled": true
   },
   "outputs": [
    {
     "data": {
      "image/png": "[encoded data removed]",
      "text/plain": [
       "<Figure size 432x288 with 1 Axes>"
      ]
     },
     "metadata": {
      "needs_background": "light"
     },
     "output_type": "display_data"
    }
   ],
   "source": [
    "plt.plot(np.linspace(0, n_episodes, n_episodes), history[\"jain_idx\"], label='jain_idx')\n",
    "plt.legend()\n",
    "plt.grid()\n",
    "plt.show()"
   ]
  },
  {
   "cell_type": "code",
   "execution_count": 698,
   "metadata": {},
   "outputs": [
    {
     "data": {
      "image/png": "[encoded data removed]",
      "text/plain": [
       "<Figure size 432x288 with 2 Axes>"
      ]
     },
     "metadata": {
      "needs_background": "light"
     },
     "output_type": "display_data"
    }
   ],
   "source": [
    "probbs = np.zeros((n_coins, 2))\n",
    "\n",
    "for c in range(n_coins):\n",
    "    a, log_prob, probs = agents[0].act(np.array(c))\n",
    "    probbs[c] = probs.detach().numpy()\n",
    "    \n",
    "ax = sns.heatmap(probbs, annot=True, linewidth=.5)"
   ]
  },
  {
   "cell_type": "code",
   "execution_count": 673,
   "metadata": {},
   "outputs": [
    {
     "data": {
      "image/png": "[encoded data removed]",
      "text/plain": [
       "<Figure size 432x288 with 2 Axes>"
      ]
     },
     "metadata": {
      "needs_background": "light"
     },
     "output_type": "display_data"
    }
   ],
   "source": [
    "probbs = np.zeros((n_coins, 2))\n",
    "\n",
    "for c in range(n_coins):\n",
    "    a, log_prob, probs = agents[0].act(np.array(c))\n",
    "    probbs[c] = probs.detach().numpy()\n",
    "    \n",
    "ax = sns.heatmap(probbs, annot=True, linewidth=.5)"
   ]
  },
  {
   "cell_type": "code",
   "execution_count": 668,
   "metadata": {
    "scrolled": true
   },
   "outputs": [
    {
     "data": {
      "image/png": "[encoded data removed]",
      "text/plain": [
       "<Figure size 432x288 with 2 Axes>"
      ]
     },
     "metadata": {
      "needs_background": "light"
     },
     "output_type": "display_data"
    }
   ],
   "source": [
    "probbs = np.zeros((n_coins, 2))\n",
    "\n",
    "for c in range(n_coins):\n",
    "    a, log_prob, probs = agents[0].act(np.array(c))\n",
    "    probbs[c] = probs.detach().numpy()\n",
    "    \n",
    "ax = sns.heatmap(probbs, annot=True, linewidth=.5)"
   ]
  }
 ],
 "metadata": {
  "kernelspec": {
   "display_name": "Python 3",
   "language": "python",
   "name": "python3"
  },
  "language_info": {
   "codemirror_mode": {
    "name": "ipython",
    "version": 3
   },
   "file_extension": ".py",
   "mimetype": "text/x-python",
   "name": "python",
   "nbconvert_exporter": "python",
   "pygments_lexer": "ipython3",
   "version": "3.8.10"
  }
 },
 "nbformat": 4,
 "nbformat_minor": 4
}
