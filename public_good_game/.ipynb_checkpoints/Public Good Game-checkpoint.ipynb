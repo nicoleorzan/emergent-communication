{
 "cells": [
  {
   "cell_type": "code",
   "execution_count": 1,
   "metadata": {},
   "outputs": [],
   "source": [
    "import math\n",
    "import os\n",
    "import seaborn as sns\n",
    "\n",
    "from torch.autograd import Variable\n",
    "import numpy as np\n",
    "import matplotlib\n",
    "import matplotlib.pyplot as plt\n",
    "import numpy as np\n",
    "from math import ceil, floor\n",
    "from collections import deque\n",
    "import pandas as pd\n",
    "import matplotlib.pyplot as plt\n",
    "import torch\n",
    "import torch.nn as nn\n",
    "import torch.nn.functional as F\n",
    "import torch.optim as optim\n",
    "from torch.distributions import Categorical\n",
    "from torch.distributions import Normal\n",
    "from scipy.stats import rv_discrete\n"
   ]
  },
  {
   "cell_type": "code",
   "execution_count": 2,
   "metadata": {},
   "outputs": [],
   "source": [
    "def get_jain_index(resources):\n",
    "    \"\"\"Calculates the Jain index of a list of resources.\"\"\"\n",
    "\n",
    "    # Jain fairness index\n",
    "    # index close to 1 means fair distribution of resources\n",
    "    # index close to 1/n means unfait distribution of resources\n",
    "\n",
    "    n = resources.shape[0]\n",
    "    r = resources\n",
    "\n",
    "    if n <= 1:\n",
    "        return 1.0\n",
    "    else:\n",
    "        return ((np.sum(r) ** 2) / (np.sum(r ** 2) * n))\n",
    "    \n",
    "\n",
    "def get_jain_index_max(np, nc):\n",
    "    \"\"\"Calculates the maximum possible value of the Jain index.\"\"\"\n",
    "    x = nc/np\n",
    "    d = x - int(x)\n",
    "    index = (1 + d*(1-d)/(x*x))**-1\n",
    "    return index"
   ]
  },
  {
   "cell_type": "code",
   "execution_count": 3,
   "metadata": {},
   "outputs": [
    {
     "name": "stderr",
     "output_type": "stream",
     "text": [
      "/home/nicole/.local/lib/python3.8/site-packages/torch/cuda/__init__.py:52: UserWarning: CUDA initialization: Found no NVIDIA driver on your system. Please check that you have an NVIDIA GPU and installed a driver from http://www.nvidia.com/Download/index.aspx (Triggered internally at  /pytorch/c10/cuda/CUDAFunctions.cpp:100.)\n",
      "  return torch._C._cuda_getDeviceCount() > 0\n"
     ]
    }
   ],
   "source": [
    "# Identify which device should be used by torch for the ANN calculations\n",
    "device = torch.device(\"cuda:0\" if torch.cuda.is_available() else \"cpu\")\n",
    "\n",
    "\n",
    "class AgentNet(nn.Module):\n",
    "    def __init__(self, n_players, n_coins):\n",
    "        super(AgentNet, self).__init__()\n",
    "        self.n_players = n_players\n",
    "        self.n_coins = n_coins\n",
    "        self.n_actions = 2 # 0 non do soldi, 1 do soldi\n",
    "        h_size = int(n_coins)\n",
    "        a_size = self.n_actions\n",
    "        self.fc1 = nn.Linear(n_coins+1, h_size)\n",
    "        self.fc2 = nn.Linear(h_size, a_size)\n",
    "        self.epsilon = 0.1\n",
    "        self._gamma = 0.99\n",
    "\n",
    "    def forward(self, x):\n",
    "        out = self.fc1(x)\n",
    "        out = F.relu(out)\n",
    "        out = self.fc2(out)\n",
    "        \n",
    "        return out\n",
    "\n",
    "    def act(self, state):\n",
    "        \n",
    "        state = torch.from_numpy(state).unsqueeze(dim=0).to(device)\n",
    "        state = F.one_hot(state, num_classes=self.n_coins+1).float()\n",
    "        \n",
    "        probs_total = self.forward(state).cpu()\n",
    "        probs_total = F.softmax(probs_total, dim=1)\n",
    "        \n",
    "        m = Categorical(probs_total)\n",
    "\n",
    "        action = m.sample()\n",
    "\n",
    "        return action, m.log_prob(action), probs_total"
   ]
  },
  {
   "cell_type": "code",
   "execution_count": 4,
   "metadata": {},
   "outputs": [],
   "source": [
    "class Environment:\n",
    "\n",
    "    def __init__(self, n_players, n_total_coins, threshold = 0., multiplier = 1.):\n",
    "        self.n_players = n_players\n",
    "        self.n_total_coins = n_total_coins\n",
    "        self.state = np.zeros((self.n_players,1))\n",
    "        self.threshold = threshold\n",
    "        self.multiplier = multiplier\n",
    "        self.rews_dict = {k: [] for k in range(self.n_players)}\n",
    "\n",
    "    def reset(self):\n",
    "        self.state = np.zeros(self.n_players)\n",
    "        self.rews_dict = {k: [] for k in range(self.n_players)}\n",
    "        \n",
    "    def equal_division(self):\n",
    "        self.coins = [int(self.n_total_coins/self.n_players) for i in range(self.n_players)]\n",
    "        return self.coins\n",
    "    \n",
    "    def update_rews_dict(self, rew, t):\n",
    "        for i in range(self.n_players):\n",
    "            self.rews_dict[i].append(rew[i])\n",
    "            \n",
    "    def sample(self):\n",
    "        left_coins = self.n_total_coins\n",
    "        self.coins = []\n",
    "        \n",
    "        for i in range(self.n_players):\n",
    "            if (i == self.n_players - 1):\n",
    "                self.coins.append(left_coins)\n",
    "            else:\n",
    "                val = int(np.random.choice(left_coins-1, 1))\n",
    "                self.coins.append(val)\n",
    "                left_coins = left_coins - val \n",
    "                \n",
    "        return self.coins\n",
    "\n",
    "    def step(self, coins, actions):\n",
    "        rewards = np.zeros(self.n_players)\n",
    "        \n",
    "        if (np.sum(actions)) < self.threshold:\n",
    "            return rewards\n",
    "        \n",
    "        amount = np.sum([coins[i] for i in range(self.n_players) if actions[i] == 1])\n",
    "            \n",
    "        for i in range(self.n_players):\n",
    "            if (actions[i] == 1.):\n",
    "                rewards[i] = amount/self.n_players*self.multiplier\n",
    "            else:\n",
    "                rewards[i] = amount/self.n_players*self.multiplier + coins[i]\n",
    "                \n",
    "            # trick to avoid log(0) \n",
    "            if rewards[i] <= 0:\n",
    "                rewards[i] = 1e-6\n",
    "\n",
    "        return rewards"
   ]
  },
  {
   "cell_type": "code",
   "execution_count": 5,
   "metadata": {},
   "outputs": [],
   "source": [
    "def reinforce_players(n_players=5, n_coins=10, n_episodes=1, print_every=1, threshold=0., multiplier=1.):\n",
    "    torch.autograd.set_detect_anomaly(True)\n",
    "    \n",
    "    env = Environment(n_players, n_coins, threshold, multiplier)\n",
    "    \n",
    "    agents = {}\n",
    "    opts = {}\n",
    "    for i in range(n_players):\n",
    "        agents[i] = AgentNet(n_players, n_coins)\n",
    "        opts[i] = optim.Adam(agents[i].parameters(), lr=0.01)\n",
    "    \n",
    "    history = {\n",
    "        \"loss\": [],\n",
    "        \"mean_rew\":[],\n",
    "        \"jain_idx\":[]\n",
    "    }\n",
    "    \n",
    "    history_rewards = {\n",
    "        \"rew_0\": [],\n",
    "        \"rew_1\": [],\n",
    "        \"rew_2\": []\n",
    "    }\n",
    "\n",
    "    for e in range(n_episodes):\n",
    "        \n",
    "        env.reset()\n",
    "        coins = env.sample()\n",
    "        #print(\"Coins=\", coins)\n",
    "        actions = []\n",
    "        log_probs = []\n",
    "\n",
    "        for agent_idx, ag in agents.items():\n",
    "\n",
    "            a, log_prob, _ = ag.act(np.array(int(coins[agent_idx])))\n",
    "            actions.append(a.detach().numpy())\n",
    "            log_probs.append(log_prob)\n",
    "             \n",
    "        rewards = env.step(coins, actions)\n",
    "        for idx, r in enumerate(rewards):\n",
    "            history_rewards[\"rew_\"+str(idx)].append(rewards[idx])\n",
    "        \n",
    "        losses = []\n",
    "        for rew, log_prob in zip(rewards, log_probs):\n",
    "            losses.append(-log_prob*rew)\n",
    "            \n",
    "        history[\"loss\"].append(np.mean([l.detach().numpy() for l in losses]))       \n",
    "        history[\"mean_rew\"].append(np.mean(rewards))\n",
    "        history[\"jain_idx\"].append(get_jain_index(rewards))\n",
    "                    \n",
    "        for idx, loss in enumerate(losses):\n",
    "            opts[idx].zero_grad()\n",
    "            loss.backward()\n",
    "            opts[idx].step()\n",
    "            \n",
    "        if (e%500 == 0):\n",
    "            print(\"\\nEpisode=\", e)\n",
    "            temp=[l.detach().numpy() for l in losses]\n",
    "            print(\"losses=\", np.mean(temp))\n",
    "            \n",
    "    return history, agents, history_rewards"
   ]
  },
  {
   "cell_type": "code",
   "execution_count": null,
   "metadata": {
    "scrolled": true
   },
   "outputs": [
    {
     "name": "stdout",
     "output_type": "stream",
     "text": [
      "\n",
      "Episode= 0\n",
      "losses= 2.8918972\n"
     ]
    }
   ],
   "source": [
    "n_episodes = 3000\n",
    "\n",
    "n_players = 3\n",
    "n_coins = 9\n",
    "\n",
    "threshold = 0.\n",
    "multiplier = 2.\n",
    "\n",
    "history, agents, hr = reinforce_players(n_players=n_players, n_coins=n_coins, n_episodes=n_episodes, threshold = threshold, multiplier=multiplier)"
   ]
  },
  {
   "cell_type": "code",
   "execution_count": null,
   "metadata": {},
   "outputs": [],
   "source": [
    "plt.plot(np.linspace(0, n_episodes, n_episodes), history[\"loss\"], label='loss')\n",
    "plt.legend()\n",
    "plt.grid()\n",
    "plt.show()"
   ]
  },
  {
   "cell_type": "code",
   "execution_count": 9,
   "metadata": {},
   "outputs": [
    {
     "data": {
      "image/png": "[encoded data removed]",
      "text/plain": [
       "<Figure size 432x288 with 1 Axes>"
      ]
     },
     "metadata": {
      "needs_background": "light"
     },
     "output_type": "display_data"
    }
   ],
   "source": [
    "figure, ax = plt.subplots(1, n_players, figsize=(16, 4))\n",
    "\n",
    "for i in range(n_players):\n",
    "    ax[i].plot(np.linspace(0, n_episodes, n_episodes), hr[\"rew\"+str(i)], label='reward agent'+str(i))\n",
    "    ax[i].legend()\n",
    "    ax[i].grid()\n",
    "plt.show()"
   ]
  },
  {
   "cell_type": "code",
   "execution_count": 10,
   "metadata": {
    "scrolled": true
   },
   "outputs": [
    {
     "data": {
      "image/png": "[encoded data removed]",
      "text/plain": [
       "<Figure size 432x288 with 1 Axes>"
      ]
     },
     "metadata": {
      "needs_background": "light"
     },
     "output_type": "display_data"
    }
   ],
   "source": [
    "plt.plot(np.linspace(0, n_episodes, n_episodes), history[\"jain_idx\"], label='jain_idx')\n",
    "plt.legend()\n",
    "plt.grid()\n",
    "plt.show()"
   ]
  },
  {
   "cell_type": "code",
   "execution_count": 11,
   "metadata": {
    "scrolled": true
   },
   "outputs": [
    {
     "data": {
      "image/png": "[encoded data removed]",
      "text/plain": [
       "<Figure size 432x288 with 2 Axes>"
      ]
     },
     "metadata": {
      "needs_background": "light"
     },
     "output_type": "display_data"
    }
   ],
   "source": [
    "probbs = np.zeros((n_coins, 2))\n",
    "\n",
    "for c in range(n_coins):\n",
    "    a, log_prob, probs = agents[0].act(np.array(c))\n",
    "    probbs[c] = probs.detach().numpy()\n",
    "    \n",
    "ax = sns.heatmap(probbs, annot=True, linewidth=.5)"
   ]
  },
  {
   "cell_type": "markdown",
   "metadata": {},
   "source": [
    "Idea: aggiungi due tipi di reward: uno alto, che si guadagnano subito, ed uno che infierisce a lungo, ma costantemente, e se continuano col behavior \"male\", li porta ad avere piu perdite che gudagni alla fine (es. guidatori: veocita di spostamento ma aria inwuinata nel lungo termine)\n",
    "        "
   ]
  }
 ],
 "metadata": {
  "kernelspec": {
   "display_name": "Python 3",
   "language": "python",
   "name": "python3"
  },
  "language_info": {
   "codemirror_mode": {
    "name": "ipython",
    "version": 3
   },
   "file_extension": ".py",
   "mimetype": "text/x-python",
   "name": "python",
   "nbconvert_exporter": "python",
   "pygments_lexer": "ipython3",
   "version": "3.8.10"
  }
 },
 "nbformat": 4,
 "nbformat_minor": 4
}
